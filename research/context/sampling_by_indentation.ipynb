{
  "nbformat": 4,
  "nbformat_minor": 0,
  "metadata": {
    "colab": {
      "name": "Untitled0.ipynb",
      "version": "0.3.2",
      "provenance": [],
      "collapsed_sections": [],
      "include_colab_link": true
    },
    "kernelspec": {
      "name": "python3",
      "display_name": "Python 3"
    }
  },
  "cells": [
    {
      "cell_type": "markdown",
      "metadata": {
        "id": "view-in-github",
        "colab_type": "text"
      },
      "source": [
        "<a href=\"https://colab.research.google.com/github/ipavlopoulos/wikidetox/blob/ipavlopoulos-research-context/sampling_by_indentation.ipynb\" target=\"_parent\"><img src=\"https://colab.research.google.com/assets/colab-badge.svg\" alt=\"Open In Colab\"/></a>"
      ]
    },
    {
      "metadata": {
        "id": "iwcFrwFVi438",
        "colab_type": "code",
        "colab": {}
      },
      "cell_type": "code",
      "source": [
        "from google.cloud import bigquery\n",
        "from tqdm import tqdm\n",
        "import pandas as pd\n",
        "import json\n",
        "import numpy as np\n",
        "\n",
        "from google.cloud import bigquery\n",
        "from google.colab import auth\n",
        "auth.authenticate_user()"
      ],
      "execution_count": 0,
      "outputs": []
    },
    {
      "metadata": {
        "id": "8nondq5ekC2Z",
        "colab_type": "code",
        "colab": {}
      },
      "cell_type": "code",
      "source": [
        "project_id = \"wikidetox-viz\"\n",
        "\n",
        "# Connect to Google's BigQuery\n",
        "client = bigquery.Client(project=project_id)"
      ],
      "execution_count": 0,
      "outputs": []
    },
    {
      "metadata": {
        "id": "C5oLxJz6jCrW",
        "colab_type": "code",
        "colab": {}
      },
      "cell_type": "code",
      "source": [
        "def get_random_comments_of_indent(indent=0, rand=.5, limit=1000, superfast=True):\n",
        "    # one could use order by to shuffle and use seed (here this is not possible; https://www.oreilly.com/learning/repeatable-sampling-of-data-sets-in-bigquery-for-machine-learning)\n",
        "    query = \"\"\"\n",
        "        SELECT *\n",
        "        FROM `en_20180501_wikiconvviz_data.en_20180501_scored`\n",
        "        WHERE indentation={indent} and RAND()<{prob}\n",
        "        LIMIT {limit}\n",
        "    \"\"\".format(limit=limit, indent=indent, prob=rand) if not superfast else \"\"\"\n",
        "    SELECT count(*), avg(sample.RockV6_1_TOXICITY)\n",
        "        FROM (\n",
        "          SELECT *\n",
        "          FROM `en_20180501_wikiconvviz_data.en_20180501_scored`\n",
        "          WHERE indentation={indent} and RAND()>{prob}\n",
        "          LIMIT {limit}\n",
        "          ) sample\n",
        "    \"\"\".format(limit=limit, indent=indent, prob=rand)\n",
        "    query_job = client.query(query)\n",
        "    results = query_job.result()\n",
        "    return results\n"
      ],
      "execution_count": 0,
      "outputs": []
    },
    {
      "metadata": {
        "id": "jhxfwILakHqP",
        "colab_type": "code",
        "colab": {}
      },
      "cell_type": "code",
      "source": [
        "# decode useful record attributes to a dict\n",
        "wrapper = lambda r: { \\\n",
        "    \"timestamp\": r.timestamp, \\\n",
        "    \"indentation\": r.indentation, \\\n",
        "    \"RockV6_1_TOXICITY\": r.RockV6_1_TOXICITY, \\\n",
        "    \"id\": r.id, \\\n",
        "    \"page_title\": r.page_title, \\\n",
        "    \"content\": r.content, \\\n",
        "    \"cleaned_content\": r.cleaned_content, \\\n",
        "    \"replyTo_id\": r.replyTo_id, \\\n",
        "    \"user_id\": r.user_id, \\\n",
        "    \"user_text\": r.user_text, \\\n",
        "    \"type\": r.type, \\\n",
        "    \"conversation_id\": r.conversation_id, \\\n",
        "    \"rev_id\": r.rev_id\n",
        "}\n",
        "\n",
        "sample = get_random_comments_of_indent(indent=0, superfast=False)\n",
        "starters = pd.DataFrame([wrapper(r) for r in sample])\n",
        "for i in tqdm(range(1, 11)):\n",
        "    sample = get_random_comments_of_indent(indent=i, superfast=False)\n",
        "    out = pd.DataFrame([wrapper(r) for r in sample])\n",
        "    out['indentation'] = i\n",
        "    table = pd.concat([out, starters], axis=0)\n",
        "    print (i, pd.DataFrame(out).RockV6_1_TOXICITY.mean())\n",
        "out.to_gbq(\"en_20180501_wikiconvviz_data.samples_by_indentation\", project_id=project_id)"
      ],
      "execution_count": 0,
      "outputs": []
    }
  ]
}