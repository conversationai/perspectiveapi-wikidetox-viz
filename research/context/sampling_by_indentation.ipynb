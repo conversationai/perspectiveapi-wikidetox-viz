{
  "nbformat": 4,
  "nbformat_minor": 0,
  "metadata": {
    "colab": {
      "name": "sampling_by_indentation.ipynb",
      "version": "0.3.2",
      "provenance": [],
      "collapsed_sections": []
    },
    "kernelspec": {
      "name": "python3",
      "display_name": "Python 3"
    }
  },
  "cells": [
    {
      "metadata": {
        "id": "iwcFrwFVi438",
        "colab_type": "code",
        "colab": {}
      },
      "cell_type": "code",
      "source": [
        "from tqdm import tqdm\n",
        "import pandas as pd\n",
        "import json\n",
        "import numpy as np\n",
        "\n",
        "from google.cloud import bigquery\n",
        "from google.colab import auth\n",
        "auth.authenticate_user()"
      ],
      "execution_count": 0,
      "outputs": []
    },
    {
      "metadata": {
        "id": "XXi4Cbnrh-o5",
        "colab_type": "code",
        "colab": {}
      },
      "cell_type": "code",
      "source": [
        "import logging\n",
        "logger = logging.getLogger('indentation_gbq')\n",
        "logger.setLevel(logging.DEBUG)\n",
        "logger.addHandler(logging.StreamHandler())"
      ],
      "execution_count": 0,
      "outputs": []
    },
    {
      "metadata": {
        "id": "8nondq5ekC2Z",
        "colab_type": "code",
        "colab": {}
      },
      "cell_type": "code",
      "source": [
        "project_id = \"wikidetox-viz\"\n",
        "\n",
        "# Connect to Google's BigQuery\n",
        "client = bigquery.Client(project=project_id)\n",
        "#bigquery.Create(project=project_id)"
      ],
      "execution_count": 0,
      "outputs": []
    },
    {
      "metadata": {
        "id": "C5oLxJz6jCrW",
        "colab_type": "code",
        "colab": {}
      },
      "cell_type": "code",
      "source": [
        "def get_random_comments_of_indent(indent=0, rand=.5, limit=1000):\n",
        "    # one could use order by to shuffle and use seed (here this is not possible; https://www.oreilly.com/learning/repeatable-sampling-of-data-sets-in-bigquery-for-machine-learning)\n",
        "    query = \"\"\"\n",
        "        SELECT *\n",
        "        FROM `en_20180501_wikiconvviz_data.en_20180501_scored`\n",
        "        WHERE length(cleaned_content)>1 and indentation={indent} and RAND()<{prob}\n",
        "        LIMIT {limit}\n",
        "    \"\"\".format(limit=limit, indent=indent, prob=rand)\n",
        "    query_job = client.query(query)\n",
        "    results = query_job.result()\n",
        "    return results\n"
      ],
      "execution_count": 0,
      "outputs": []
    },
    {
      "metadata": {
        "id": "jhxfwILakHqP",
        "colab_type": "code",
        "colab": {}
      },
      "cell_type": "code",
      "source": [
        "# decode useful record attributes to a dict\n",
        "wrapper = lambda r: { \\\n",
        "#    \"timestamp\": r.timestamp, \\\n",
        "    \"indentation\": r.indentation, \\\n",
        "    \"RockV6_1_TOXICITY\": r.RockV6_1_TOXICITY, \\\n",
        "    \"id\": r.id, \\\n",
        "#    \"page_title\": r.page_title, \\\n",
        "#    \"content\": r.content, \\\n",
        "    \"cleaned_content\": r.cleaned_content, \\\n",
        "#    \"replyTo_id\": r.replyTo_id, \\\n",
        "#    \"user_id\": r.user_id, \\\n",
        "#    \"user_text\": r.user_text, \\\n",
        "#    \"type\": r.type, \\\n",
        "    \"conversation_id\": r.conversation_id, \\\n",
        "#    \"rev_id\": r.rev_id\n",
        "}\n",
        "\n"
      ],
      "execution_count": 0,
      "outputs": []
    },
    {
      "metadata": {
        "id": "T_Wvcv7zldvQ",
        "colab_type": "code",
        "colab": {
          "base_uri": "https://localhost:8080/",
          "height": 221
        },
        "outputId": "6a6afc9b-a190-4a38-a605-04d7d52303d6"
      },
      "cell_type": "code",
      "source": [
        "output_df = pd.DataFrame()\n",
        "table = []\n",
        "for i in tqdm(range(0, 11)):\n",
        "    sample = get_random_comments_of_indent(indent=i)\n",
        "    wrapped = [wrapper(r) for r in sample]\n",
        "    table.extend(wrapped) # append in simple table\n",
        "    out = pd.DataFrame(wrapped) # append in dataframe\n",
        "    output_df = pd.concat([output_df, out], ignore_index=True, axis=0)\n",
        "    print (i, pd.DataFrame(out).RockV6_1_TOXICITY.mean())\n",
        "#output_df.to_gbq(\"en_20180501_wikiconvviz_data.samples_by_indentation\", project_id=project_id)"
      ],
      "execution_count": 74,
      "outputs": [
        {
          "output_type": "stream",
          "text": [
            "  9%|▉         | 1/11 [00:05<00:56,  5.70s/it]"
          ],
          "name": "stderr"
        },
        {
          "output_type": "stream",
          "text": [
            "0 0.12050414917099996\n"
          ],
          "name": "stdout"
        },
        {
          "output_type": "stream",
          "text": [
            "\r 18%|█▊        | 2/11 [00:10<00:48,  5.41s/it]"
          ],
          "name": "stderr"
        },
        {
          "output_type": "stream",
          "text": [
            "1 0.12101686392999984\n"
          ],
          "name": "stdout"
        },
        {
          "output_type": "stream",
          "text": [
            "\r 27%|██▋       | 3/11 [00:17<00:47,  5.94s/it]"
          ],
          "name": "stderr"
        },
        {
          "output_type": "stream",
          "text": [
            "2 0.12416464208400006\n"
          ],
          "name": "stdout"
        },
        {
          "output_type": "stream",
          "text": [
            "\r 36%|███▋      | 4/11 [00:25<00:45,  6.47s/it]"
          ],
          "name": "stderr"
        },
        {
          "output_type": "stream",
          "text": [
            "3 0.13909506942499997\n"
          ],
          "name": "stdout"
        },
        {
          "output_type": "stream",
          "text": [
            "\r 45%|████▌     | 5/11 [00:37<00:48,  8.12s/it]"
          ],
          "name": "stderr"
        },
        {
          "output_type": "stream",
          "text": [
            "4 0.13043349743300006\n"
          ],
          "name": "stdout"
        },
        {
          "output_type": "stream",
          "text": [
            "\r 55%|█████▍    | 6/11 [00:55<00:55, 11.11s/it]"
          ],
          "name": "stderr"
        },
        {
          "output_type": "stream",
          "text": [
            "5 0.13749819441000014\n"
          ],
          "name": "stdout"
        },
        {
          "output_type": "stream",
          "text": [
            "\r 64%|██████▎   | 7/11 [01:22<01:03, 15.85s/it]"
          ],
          "name": "stderr"
        },
        {
          "output_type": "stream",
          "text": [
            "6 0.1419057613789999\n"
          ],
          "name": "stdout"
        },
        {
          "output_type": "stream",
          "text": [
            "\r 73%|███████▎  | 8/11 [01:56<01:04, 21.35s/it]"
          ],
          "name": "stderr"
        },
        {
          "output_type": "stream",
          "text": [
            "7 0.14141019827299986\n"
          ],
          "name": "stdout"
        },
        {
          "output_type": "stream",
          "text": [
            "\r 82%|████████▏ | 9/11 [02:27<00:48, 24.37s/it]"
          ],
          "name": "stderr"
        },
        {
          "output_type": "stream",
          "text": [
            "8 0.146473807178\n"
          ],
          "name": "stdout"
        },
        {
          "output_type": "stream",
          "text": [
            "\r 91%|█████████ | 10/11 [02:59<00:26, 26.52s/it]"
          ],
          "name": "stderr"
        },
        {
          "output_type": "stream",
          "text": [
            "9 0.1473632520311001\n"
          ],
          "name": "stdout"
        },
        {
          "output_type": "stream",
          "text": [
            "\r100%|██████████| 11/11 [03:30<00:00, 28.03s/it]"
          ],
          "name": "stderr"
        },
        {
          "output_type": "stream",
          "text": [
            "10 0.15560498813600002\n"
          ],
          "name": "stdout"
        },
        {
          "output_type": "stream",
          "text": [
            "\n"
          ],
          "name": "stderr"
        }
      ]
    },
    {
      "metadata": {
        "id": "BOVEFhAEod23",
        "colab_type": "code",
        "colab": {}
      },
      "cell_type": "code",
      "source": [
        "#!pip install ndjson\n",
        "import ndjson\n",
        "with open(\"samples_by_indentation.json\", \"w\") as o:\n",
        "  o.write(ndjson.dumps(output))"
      ],
      "execution_count": 0,
      "outputs": []
    },
    {
      "metadata": {
        "id": "nBkrn7kOLx6N",
        "colab_type": "code",
        "colab": {}
      },
      "cell_type": "code",
      "source": [
        "from google.colab import files\n",
        "files.download(\"samples_by_indentation.json\")"
      ],
      "execution_count": 0,
      "outputs": []
    },
    {
      "metadata": {
        "id": "cfRQ69Dmer3r",
        "colab_type": "code",
        "colab": {}
      },
      "cell_type": "code",
      "source": [
        "# The following are failed attempts to directly create a BGQ table\n",
        "#output_df[\"cleaned_content\"] = output_df[\"cleaned_content\"].apply(lambda x: x.replace(u'\\r', u' ') if isinstance(x, str) or isinstance(x, unicode) else x)\n",
        "#output_df.to_gbq(\"en_20180501_wikiconvviz_data.samples_by_indentation\", project_id=project_id, if_exists=\"replace\")"
      ],
      "execution_count": 0,
      "outputs": []
    }
  ]
}