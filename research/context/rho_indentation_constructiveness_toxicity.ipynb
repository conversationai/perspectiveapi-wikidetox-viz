{
  "nbformat": 4,
  "nbformat_minor": 0,
  "metadata": {
    "colab": {
      "name": "rho_indentation_constructiveness_toxicity.ipynb",
      "version": "0.3.2",
      "provenance": [],
      "collapsed_sections": [],
      "include_colab_link": true
    },
    "kernelspec": {
      "name": "python3",
      "display_name": "Python 3"
    }
  },
  "cells": [
    {
      "cell_type": "markdown",
      "metadata": {
        "id": "view-in-github",
        "colab_type": "text"
      },
      "source": [
        "<a href=\"https://colab.research.google.com/github/ipavlopoulos/wikidetox/blob/ipavlopoulos-research-context/research/context/rho_indentation_constructiveness_toxicity.ipynb\" target=\"_parent\"><img src=\"https://colab.research.google.com/assets/colab-badge.svg\" alt=\"Open In Colab\"/></a>"
      ]
    },
    {
      "metadata": {
        "id": "I8kcM70I0ks3",
        "colab_type": "code",
        "colab": {}
      },
      "cell_type": "code",
      "source": [
        "from tqdm import tqdm\n",
        "import pandas as pd\n",
        "import json\n",
        "import numpy as np\n",
        "\n",
        "from google.cloud import bigquery\n",
        "from google.colab import auth\n",
        "auth.authenticate_user()"
      ],
      "execution_count": 0,
      "outputs": []
    },
    {
      "metadata": {
        "id": "1_jKKiaS0utX",
        "colab_type": "code",
        "colab": {}
      },
      "cell_type": "code",
      "source": [
        "import logging\n",
        "logger = logging.getLogger('indentation_constructiveness_gbq')\n",
        "logger.setLevel(logging.DEBUG)\n",
        "logger.addHandler(logging.StreamHandler())"
      ],
      "execution_count": 0,
      "outputs": []
    },
    {
      "metadata": {
        "id": "VilvjdVx305e",
        "colab_type": "code",
        "colab": {}
      },
      "cell_type": "code",
      "source": [
        "project_id = \"wikidetox-viz\"\n",
        "\n",
        "# Connect to Google's BigQuery\n",
        "client = bigquery.Client(project=project_id)\n",
        "#bigquery.Create(project=project_id)"
      ],
      "execution_count": 0,
      "outputs": []
    },
    {
      "metadata": {
        "id": "BTtc1efp34yO",
        "colab_type": "code",
        "colab": {}
      },
      "cell_type": "code",
      "source": [
        "def get_comments_scored_for_constructiveness_n_toxicity():\n",
        "  query = \"\"\"\n",
        "    SELECT t1.id as id1, t2.id as id2, t1.RockV6_1_TOXICITY as tox, t2.constructiveness as constr, t1.indentation as indent, t1.cleaned_content as txt\n",
        "    FROM `en_20180501_wikiconvviz_data.sampled_by_indentation` as t1\n",
        "    JOIN `en_20180501_wikiconvviz_data.constructive_scored_sampled_by_indentation` as t2\n",
        "    ON t1.id = t2.id\n",
        "  \"\"\"\n",
        "  query_job = client.query(query)\n",
        "  results = query_job.result()\n",
        "  return results"
      ],
      "execution_count": 0,
      "outputs": []
    },
    {
      "metadata": {
        "id": "0XODVXni4GRz",
        "colab_type": "code",
        "colab": {}
      },
      "cell_type": "code",
      "source": [
        "wrapper = lambda r: {\"toxicity\":r.tox, \"indentation\": r.indent, \"constructiveness\":r.constr, \"txt\":r.txt}"
      ],
      "execution_count": 0,
      "outputs": []
    },
    {
      "metadata": {
        "id": "jK7gfPX_4bBc",
        "colab_type": "code",
        "colab": {}
      },
      "cell_type": "code",
      "source": [
        "table = [wrapper(r) for r in get_comments_scored_for_constructiveness()]"
      ],
      "execution_count": 0,
      "outputs": []
    },
    {
      "metadata": {
        "id": "oiUQ6nlSM2Db",
        "colab_type": "code",
        "colab": {}
      },
      "cell_type": "code",
      "source": [
        "table_pd = pd.DataFrame(table)\n",
        "table_group = table_pd.groupby('indentation', as_index=False)\n",
        "tox = table_group.toxicity.mean().toxicity\n",
        "indent = table_group.toxicity.mean().indentation # same for constructiveness\n",
        "constr = table_group.constructiveness.mean().constructiveness"
      ],
      "execution_count": 0,
      "outputs": []
    },
    {
      "metadata": {
        "id": "JYTqfkB66KeU",
        "colab_type": "code",
        "colab": {}
      },
      "cell_type": "code",
      "source": [
        "from scipy.stats import pearsonr, spearmanr, kendalltau"
      ],
      "execution_count": 0,
      "outputs": []
    },
    {
      "metadata": {
        "id": "vtc2TdhU6U0M",
        "colab_type": "code",
        "colab": {}
      },
      "cell_type": "code",
      "source": [
        "# Correlation between indentation and toxicity\n",
        "for rho in (pearsonr, spearmanr, kendalltau):\n",
        "  print (rho(indent, tox))"
      ],
      "execution_count": 0,
      "outputs": []
    },
    {
      "metadata": {
        "id": "jfnzi9gM6jEc",
        "colab_type": "code",
        "colab": {
          "base_uri": "https://localhost:8080/",
          "height": 68
        },
        "outputId": "0b65669e-2656-42ba-de0a-ec8a50aacf7a"
      },
      "cell_type": "code",
      "source": [
        "for rho in (pearsonr, spearmanr, kendalltau):\n",
        "  print (rho(indent,constr))"
      ],
      "execution_count": 89,
      "outputs": [
        {
          "output_type": "stream",
          "text": [
            "(0.8946090673788041, 0.00020098866179414686)\n",
            "SpearmanrResult(correlation=0.9363636363636365, pvalue=2.208207644917754e-05)\n",
            "KendalltauResult(correlation=0.8545454545454545, pvalue=0.0002532556429228073)\n"
          ],
          "name": "stdout"
        }
      ]
    },
    {
      "metadata": {
        "id": "c0ZYWCnoPv2l",
        "colab_type": "code",
        "colab": {
          "base_uri": "https://localhost:8080/",
          "height": 68
        },
        "outputId": "8425e6cf-064e-4569-9991-7cb9a119e5ea"
      },
      "cell_type": "code",
      "source": [
        "# sanity check (note that both the score and the pvalue are lower)\n",
        "for rho in (pearsonr, spearmanr, kendalltau):\n",
        "  print (rho(tox, constr))"
      ],
      "execution_count": 90,
      "outputs": [
        {
          "output_type": "stream",
          "text": [
            "(0.6953071090793349, 0.017529553783087574)\n",
            "SpearmanrResult(correlation=0.8090909090909091, pvalue=0.002558580199713915)\n",
            "KendalltauResult(correlation=0.6000000000000001, pvalue=0.01019787677624025)\n"
          ],
          "name": "stdout"
        }
      ]
    },
    {
      "metadata": {
        "id": "-yDfGQ1qQ2BA",
        "colab_type": "code",
        "colab": {
          "base_uri": "https://localhost:8080/",
          "height": 390
        },
        "outputId": "e839dbcf-6666-4c6c-fe2a-56730ff305f8"
      },
      "cell_type": "code",
      "source": [
        "table_group.describe().constructiveness"
      ],
      "execution_count": 91,
      "outputs": [
        {
          "output_type": "execute_result",
          "data": {
            "text/html": [
              "<div>\n",
              "<style scoped>\n",
              "    .dataframe tbody tr th:only-of-type {\n",
              "        vertical-align: middle;\n",
              "    }\n",
              "\n",
              "    .dataframe tbody tr th {\n",
              "        vertical-align: top;\n",
              "    }\n",
              "\n",
              "    .dataframe thead th {\n",
              "        text-align: right;\n",
              "    }\n",
              "</style>\n",
              "<table border=\"1\" class=\"dataframe\">\n",
              "  <thead>\n",
              "    <tr style=\"text-align: right;\">\n",
              "      <th></th>\n",
              "      <th>count</th>\n",
              "      <th>mean</th>\n",
              "      <th>std</th>\n",
              "      <th>min</th>\n",
              "      <th>25%</th>\n",
              "      <th>50%</th>\n",
              "      <th>75%</th>\n",
              "      <th>max</th>\n",
              "    </tr>\n",
              "  </thead>\n",
              "  <tbody>\n",
              "    <tr>\n",
              "      <th>0</th>\n",
              "      <td>1000.0</td>\n",
              "      <td>0.454828</td>\n",
              "      <td>0.291335</td>\n",
              "      <td>0.004132</td>\n",
              "      <td>0.211260</td>\n",
              "      <td>0.437431</td>\n",
              "      <td>0.690714</td>\n",
              "      <td>0.999234</td>\n",
              "    </tr>\n",
              "    <tr>\n",
              "      <th>1</th>\n",
              "      <td>1000.0</td>\n",
              "      <td>0.414909</td>\n",
              "      <td>0.332039</td>\n",
              "      <td>0.002115</td>\n",
              "      <td>0.107372</td>\n",
              "      <td>0.325429</td>\n",
              "      <td>0.737006</td>\n",
              "      <td>0.998413</td>\n",
              "    </tr>\n",
              "    <tr>\n",
              "      <th>2</th>\n",
              "      <td>1000.0</td>\n",
              "      <td>0.443107</td>\n",
              "      <td>0.342376</td>\n",
              "      <td>0.003989</td>\n",
              "      <td>0.105806</td>\n",
              "      <td>0.377415</td>\n",
              "      <td>0.779410</td>\n",
              "      <td>0.999227</td>\n",
              "    </tr>\n",
              "    <tr>\n",
              "      <th>3</th>\n",
              "      <td>1000.0</td>\n",
              "      <td>0.446959</td>\n",
              "      <td>0.343304</td>\n",
              "      <td>0.002864</td>\n",
              "      <td>0.108946</td>\n",
              "      <td>0.391698</td>\n",
              "      <td>0.794435</td>\n",
              "      <td>0.998917</td>\n",
              "    </tr>\n",
              "    <tr>\n",
              "      <th>4</th>\n",
              "      <td>1000.0</td>\n",
              "      <td>0.456843</td>\n",
              "      <td>0.341892</td>\n",
              "      <td>0.004099</td>\n",
              "      <td>0.125816</td>\n",
              "      <td>0.409719</td>\n",
              "      <td>0.799723</td>\n",
              "      <td>0.998955</td>\n",
              "    </tr>\n",
              "    <tr>\n",
              "      <th>5</th>\n",
              "      <td>1000.0</td>\n",
              "      <td>0.465584</td>\n",
              "      <td>0.349871</td>\n",
              "      <td>0.004209</td>\n",
              "      <td>0.122161</td>\n",
              "      <td>0.403672</td>\n",
              "      <td>0.824543</td>\n",
              "      <td>0.997362</td>\n",
              "    </tr>\n",
              "    <tr>\n",
              "      <th>6</th>\n",
              "      <td>1000.0</td>\n",
              "      <td>0.466329</td>\n",
              "      <td>0.345636</td>\n",
              "      <td>0.006566</td>\n",
              "      <td>0.124070</td>\n",
              "      <td>0.424553</td>\n",
              "      <td>0.823085</td>\n",
              "      <td>0.997545</td>\n",
              "    </tr>\n",
              "    <tr>\n",
              "      <th>7</th>\n",
              "      <td>1000.0</td>\n",
              "      <td>0.488071</td>\n",
              "      <td>0.350374</td>\n",
              "      <td>0.002941</td>\n",
              "      <td>0.131367</td>\n",
              "      <td>0.470991</td>\n",
              "      <td>0.844855</td>\n",
              "      <td>0.998895</td>\n",
              "    </tr>\n",
              "    <tr>\n",
              "      <th>8</th>\n",
              "      <td>1000.0</td>\n",
              "      <td>0.477406</td>\n",
              "      <td>0.340754</td>\n",
              "      <td>0.001178</td>\n",
              "      <td>0.130981</td>\n",
              "      <td>0.454997</td>\n",
              "      <td>0.819400</td>\n",
              "      <td>0.999732</td>\n",
              "    </tr>\n",
              "    <tr>\n",
              "      <th>9</th>\n",
              "      <td>1000.0</td>\n",
              "      <td>0.494487</td>\n",
              "      <td>0.347250</td>\n",
              "      <td>0.003194</td>\n",
              "      <td>0.137019</td>\n",
              "      <td>0.484232</td>\n",
              "      <td>0.848046</td>\n",
              "      <td>0.998072</td>\n",
              "    </tr>\n",
              "    <tr>\n",
              "      <th>10</th>\n",
              "      <td>1000.0</td>\n",
              "      <td>0.508524</td>\n",
              "      <td>0.342283</td>\n",
              "      <td>0.003531</td>\n",
              "      <td>0.173284</td>\n",
              "      <td>0.506754</td>\n",
              "      <td>0.851082</td>\n",
              "      <td>0.997647</td>\n",
              "    </tr>\n",
              "  </tbody>\n",
              "</table>\n",
              "</div>"
            ],
            "text/plain": [
              "     count      mean       std       min       25%       50%       75%  \\\n",
              "0   1000.0  0.454828  0.291335  0.004132  0.211260  0.437431  0.690714   \n",
              "1   1000.0  0.414909  0.332039  0.002115  0.107372  0.325429  0.737006   \n",
              "2   1000.0  0.443107  0.342376  0.003989  0.105806  0.377415  0.779410   \n",
              "3   1000.0  0.446959  0.343304  0.002864  0.108946  0.391698  0.794435   \n",
              "4   1000.0  0.456843  0.341892  0.004099  0.125816  0.409719  0.799723   \n",
              "5   1000.0  0.465584  0.349871  0.004209  0.122161  0.403672  0.824543   \n",
              "6   1000.0  0.466329  0.345636  0.006566  0.124070  0.424553  0.823085   \n",
              "7   1000.0  0.488071  0.350374  0.002941  0.131367  0.470991  0.844855   \n",
              "8   1000.0  0.477406  0.340754  0.001178  0.130981  0.454997  0.819400   \n",
              "9   1000.0  0.494487  0.347250  0.003194  0.137019  0.484232  0.848046   \n",
              "10  1000.0  0.508524  0.342283  0.003531  0.173284  0.506754  0.851082   \n",
              "\n",
              "         max  \n",
              "0   0.999234  \n",
              "1   0.998413  \n",
              "2   0.999227  \n",
              "3   0.998917  \n",
              "4   0.998955  \n",
              "5   0.997362  \n",
              "6   0.997545  \n",
              "7   0.998895  \n",
              "8   0.999732  \n",
              "9   0.998072  \n",
              "10  0.997647  "
            ]
          },
          "metadata": {
            "tags": []
          },
          "execution_count": 91
        }
      ]
    },
    {
      "metadata": {
        "id": "POWcUoArRXNk",
        "colab_type": "code",
        "colab": {}
      },
      "cell_type": "code",
      "source": [
        ""
      ],
      "execution_count": 0,
      "outputs": []
    }
  ]
}